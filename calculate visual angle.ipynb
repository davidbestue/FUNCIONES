{
 "cells": [
  {
   "cell_type": "code",
   "execution_count": 4,
   "metadata": {
    "collapsed": true
   },
   "outputs": [],
   "source": [
    "from math import atan, degrees\n",
    "import easygui"
   ]
  },
  {
   "cell_type": "code",
   "execution_count": 5,
   "metadata": {
    "collapsed": true
   },
   "outputs": [],
   "source": [
    "#box to enter stim size and distance\n",
    "\n",
    "#stim size\n",
    "#It takes into account that you fixate in the center of the stim\n",
    "stim_size = easygui.enterbox(msg='Enter the stim size (cm)', title='value')\n",
    "stim_size=int(stim_size)\n",
    "\n",
    "#distance from the eye to the stim. It is not important wether there is a mirror or not. It does not affect.\n",
    "# If there is a mirror: distance = dist_eye_mirror + dist_mirror_\n",
    "distance = easygui.enterbox(msg='Enter the distance (cm)', title='value')\n",
    "distance=int(distance)\n",
    "\n"
   ]
  },
  {
   "cell_type": "code",
   "execution_count": 6,
   "metadata": {},
   "outputs": [
    {
     "name": "stdout",
     "output_type": "stream",
     "text": [
      "7.628\n"
     ]
    }
   ],
   "source": [
    "visual_angle = degrees(  atan( (float(stim_size)/2)  / float(distance)  )    )  *  2\n",
    "\n",
    "visual_angle=round(visual_angle, 3)\n",
    "\n",
    "print visual_angle"
   ]
  }
 ],
 "metadata": {
  "kernelspec": {
   "display_name": "Python 2",
   "language": "python",
   "name": "python2"
  },
  "language_info": {
   "codemirror_mode": {
    "name": "ipython",
    "version": 2
   },
   "file_extension": ".py",
   "mimetype": "text/x-python",
   "name": "python",
   "nbconvert_exporter": "python",
   "pygments_lexer": "ipython2",
   "version": "2.7.12"
  }
 },
 "nbformat": 4,
 "nbformat_minor": 2
}
