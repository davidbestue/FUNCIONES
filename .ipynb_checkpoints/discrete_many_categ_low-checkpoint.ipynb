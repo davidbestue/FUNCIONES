{
 "cells": [
  {
   "cell_type": "code",
   "execution_count": 72,
   "metadata": {},
   "outputs": [],
   "source": [
    "import pandas as pd\n",
    "import numpy as np\n",
    "import matplotlib.pyplot as plt\n",
    "import seaborn as sns\n",
    "import statsmodels.formula.api as smf"
   ]
  },
  {
   "cell_type": "code",
   "execution_count": 73,
   "metadata": {},
   "outputs": [],
   "source": [
    "res_cont=[]\n",
    "for sims in [1,10, 100, 1000]:\n",
    "    for rep in range(100):\n",
    "        cont = [1,2,3,4,5,6,7,8,9,10,11,12]*sims\n",
    "        y_cont = np.array(cont)+np.random.normal(0,1,12 * sims)\n",
    "        df=pd.DataFrame({'y_cont':y_cont, 'x_cont':cont})\n",
    "        md = smf.ols(\"y_cont ~ x_cont\", df).fit() #with intercept\n",
    "        res_cont.append([md.tvalues.x_cont, sims*12])"
   ]
  },
  {
   "cell_type": "code",
   "execution_count": 74,
   "metadata": {},
   "outputs": [],
   "source": [
    "res_disc=[]\n",
    "for sims in [1,10, 100, 1000]:\n",
    "    for rep in range(100):\n",
    "        disc = [1,1,1,1,6,6,6,6,12,12,12,12]*sims\n",
    "        y_disc = np.array(disc)+np.random.normal(0,1,12 * sims)\n",
    "        df=pd.DataFrame({'y_disc':y_disc, 'x_disc':disc})\n",
    "        md = smf.ols(\"y_disc ~ x_disc\", df).fit() #with intercept\n",
    "        res_disc.append([md.tvalues.x_disc, sims*12])"
   ]
  },
  {
   "cell_type": "markdown",
   "metadata": {},
   "source": [
    "## Plot t statistic value: the higher the most significant is the effect"
   ]
  },
  {
   "cell_type": "code",
   "execution_count": 78,
   "metadata": {},
   "outputs": [
    {
     "name": "stderr",
     "output_type": "stream",
     "text": [
      "C:\\Users\\David\\Anaconda3\\envs\\python3\\lib\\site-packages\\scipy\\stats\\stats.py:1713: FutureWarning: Using a non-tuple sequence for multidimensional indexing is deprecated; use `arr[tuple(seq)]` instead of `arr[seq]`. In the future this will be interpreted as an array index, `arr[np.array(seq)]`, which will result either in an error or a different result.\n",
      "  return np.add.reduce(sorted[indexer] * weights, axis=axis) / sumval\n"
     ]
    },
    {
     "data": {
      "image/png": "[encoded data removed]",
      "text/plain": [
       "<Figure size 432x288 with 1 Axes>"
      ]
     },
     "metadata": {
      "needs_background": "light"
     },
     "output_type": "display_data"
    }
   ],
   "source": [
    "df_c = pd.DataFrame(res_cont)\n",
    "df_c.columns=['t', 'nsimuls']\n",
    "df_c['type']='continuos'\n",
    "\n",
    "df_disc= pd.DataFrame(res_disc)\n",
    "df_disc.columns=['t', 'nsimuls']\n",
    "df_disc['type']='discrete'\n",
    "\n",
    "\n",
    "df=pd.concat([df_c, df_disc])\n",
    "\n",
    "sns.barplot(x='nsimuls', y='t', hue='type', palette=['darkred', 'navy'], data=df)\n",
    "plt.gca().spines['right'].set_visible(False)  ## aesthetics                                                                              # remove right spines\n",
    "plt.gca().spines['top'].set_visible(False)                                                                                  # remove top spines\n",
    "plt.gca().get_xaxis().tick_bottom()                                                                                         \n",
    "plt.gca().get_yaxis().tick_left()\n",
    "plt.gca().tick_params(direction='in') #direction\n",
    "adjust_spines(plt.gca(), ['left', 'bottom'])\n",
    "l = plt.legend(loc='best', frameon=False, prop={'size': 16})"
   ]
  }
 ],
 "metadata": {
  "kernelspec": {
   "display_name": "Python 3",
   "language": "python",
   "name": "python3"
  },
  "language_info": {
   "codemirror_mode": {
    "name": "ipython",
    "version": 3
   },
   "file_extension": ".py",
   "mimetype": "text/x-python",
   "name": "python",
   "nbconvert_exporter": "python",
   "pygments_lexer": "ipython3",
   "version": "3.5.6"
  }
 },
 "nbformat": 4,
 "nbformat_minor": 2
}
